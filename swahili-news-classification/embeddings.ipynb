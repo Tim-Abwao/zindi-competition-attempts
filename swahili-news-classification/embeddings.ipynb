{
  "nbformat": 4,
  "nbformat_minor": 0,
  "metadata": {
    "kernelspec": {
      "display_name": "Python 3 (ipykernel)",
      "language": "python",
      "name": "python3"
    },
    "language_info": {
      "codemirror_mode": {
        "name": "ipython",
        "version": 3
      },
      "file_extension": ".py",
      "mimetype": "text/x-python",
      "name": "python",
      "nbconvert_exporter": "python",
      "pygments_lexer": "ipython3",
      "version": "3.8.10"
    },
    "colab": {
      "name": "nn.ipynb",
      "provenance": []
    },
    "accelerator": "GPU"
  },
  "cells": [
    {
      "cell_type": "code",
      "metadata": {
        "id": "zAAwWYNQQn2F",
        "colab": {
          "base_uri": "https://localhost:8080/"
        },
        "outputId": "1d48351c-cbaf-4218-ac96-714f37fab58e"
      },
      "source": [
        "import pandas as pd\n",
        "import numpy as np\n",
        "import seaborn as sns\n",
        "\n",
        "from imblearn.over_sampling import RandomOverSampler\n",
        "\n",
        "import tensorflow as tf\n",
        "from tensorflow.keras import layers\n",
        "\n",
        "tf.random.set_seed(7)\n",
        "print(tf.__version__)"
      ],
      "execution_count": 1,
      "outputs": [
        {
          "output_type": "stream",
          "name": "stderr",
          "text": [
            "/usr/local/lib/python3.7/dist-packages/sklearn/externals/six.py:31: FutureWarning: The module is deprecated in version 0.21 and will be removed in version 0.23 since we've dropped support for Python 2.7. Please rely on the official version of six (https://pypi.org/project/six/).\n",
            "  \"(https://pypi.org/project/six/).\", FutureWarning)\n",
            "/usr/local/lib/python3.7/dist-packages/sklearn/utils/deprecation.py:144: FutureWarning: The sklearn.neighbors.base module is  deprecated in version 0.22 and will be removed in version 0.24. The corresponding classes / functions should instead be imported from sklearn.neighbors. Anything that cannot be imported from sklearn.neighbors is now part of the private API.\n",
            "  warnings.warn(message, FutureWarning)\n"
          ]
        },
        {
          "output_type": "stream",
          "name": "stdout",
          "text": [
            "2.6.0\n"
          ]
        }
      ]
    },
    {
      "cell_type": "code",
      "metadata": {
        "scrolled": false,
        "colab": {
          "base_uri": "https://localhost:8080/",
          "height": 238
        },
        "id": "NIY5D47jQn2J",
        "outputId": "b50d04bf-8e54-457c-b0d4-1e84b342e726"
      },
      "source": [
        "data = pd.read_csv('train.csv', index_col=0, error_bad_lines=False, engine=\"python\")\n",
        "test = pd.read_csv(\"test.csv\", index_col=0)\n",
        "sample_submission = pd.read_csv(\"sample_sub.csv\", index_col=0)\n",
        "data.head()"
      ],
      "execution_count": 2,
      "outputs": [
        {
          "output_type": "execute_result",
          "data": {
            "text/html": [
              "<div>\n",
              "<style scoped>\n",
              "    .dataframe tbody tr th:only-of-type {\n",
              "        vertical-align: middle;\n",
              "    }\n",
              "\n",
              "    .dataframe tbody tr th {\n",
              "        vertical-align: top;\n",
              "    }\n",
              "\n",
              "    .dataframe thead th {\n",
              "        text-align: right;\n",
              "    }\n",
              "</style>\n",
              "<table border=\"1\" class=\"dataframe\">\n",
              "  <thead>\n",
              "    <tr style=\"text-align: right;\">\n",
              "      <th></th>\n",
              "      <th>content</th>\n",
              "      <th>category</th>\n",
              "    </tr>\n",
              "    <tr>\n",
              "      <th>id</th>\n",
              "      <th></th>\n",
              "      <th></th>\n",
              "    </tr>\n",
              "  </thead>\n",
              "  <tbody>\n",
              "    <tr>\n",
              "      <th>SW0</th>\n",
              "      <td>SERIKALI imesema haitakuwa tayari kuona amani...</td>\n",
              "      <td>Kitaifa</td>\n",
              "    </tr>\n",
              "    <tr>\n",
              "      <th>SW1</th>\n",
              "      <td>Mkuu wa Mkoa wa Tabora, Aggrey Mwanri amesiti...</td>\n",
              "      <td>Biashara</td>\n",
              "    </tr>\n",
              "    <tr>\n",
              "      <th>SW10</th>\n",
              "      <td>SERIKALI imetoa miezi sita kwa taasisi zote z...</td>\n",
              "      <td>Kitaifa</td>\n",
              "    </tr>\n",
              "    <tr>\n",
              "      <th>SW100</th>\n",
              "      <td>KAMPUNI ya mchezo wa kubahatisha ya M-bet ime...</td>\n",
              "      <td>michezo</td>\n",
              "    </tr>\n",
              "    <tr>\n",
              "      <th>SW1000</th>\n",
              "      <td>WATANZANIA wamekumbushwa kusherehekea sikukuu...</td>\n",
              "      <td>Kitaifa</td>\n",
              "    </tr>\n",
              "  </tbody>\n",
              "</table>\n",
              "</div>"
            ],
            "text/plain": [
              "                                                  content  category\n",
              "id                                                                 \n",
              "SW0      SERIKALI imesema haitakuwa tayari kuona amani...   Kitaifa\n",
              "SW1      Mkuu wa Mkoa wa Tabora, Aggrey Mwanri amesiti...  Biashara\n",
              "SW10     SERIKALI imetoa miezi sita kwa taasisi zote z...   Kitaifa\n",
              "SW100    KAMPUNI ya mchezo wa kubahatisha ya M-bet ime...   michezo\n",
              "SW1000   WATANZANIA wamekumbushwa kusherehekea sikukuu...   Kitaifa"
            ]
          },
          "metadata": {},
          "execution_count": 2
        }
      ]
    },
    {
      "cell_type": "code",
      "metadata": {
        "id": "fuB_AWSiQn2K",
        "colab": {
          "base_uri": "https://localhost:8080/",
          "height": 87
        },
        "outputId": "2311302a-3e4b-4c6c-eedf-30fce9f190b6"
      },
      "source": [
        "stop_words = {\n",
        "    'moja', 'mbili', 'tatu', 'nne', 'tano', 'sita', 'saba', 'nane', 'tisa', 'kumi',\n",
        "    'ishirini', 'thelathini', 'arobaine', 'hamsini', 'sitini', 'sabini',\n",
        "    'themanini', 'tisini', 'mia', 'elfu', 'laki', 'nusu', 'hapa', 'pale', 'kule',\n",
        "    'baada', 'cha',  'hadi', 'hao', 'hayo', 'hicho', 'hilo', 'hivyo', 'hiyo',\n",
        "    'huku', 'huo', 'kwenye', 'huu', 'huyo', 'hizo', 'ili', 'jana', 'kama', 'katika',\n",
        "    'kila', 'kutoka', 'kuwa', 'kwa', 'kwamba', 'la', 'lakini', 'na', 'ni',\n",
        "    'pia', 'sasa', 'taarifa', 'vya', 'wa', 'ya', 'yao', 'za', 'zao'\n",
        "}\n",
        "stop_words_regex = f\"\\d+| {' | '.join(sorted(stop_words))} \"\n",
        "stop_words_regex"
      ],
      "execution_count": 3,
      "outputs": [
        {
          "output_type": "execute_result",
          "data": {
            "application/vnd.google.colaboratory.intrinsic+json": {
              "type": "string"
            },
            "text/plain": [
              "'\\\\d+| arobaine | baada | cha | elfu | hadi | hamsini | hao | hapa | hayo | hicho | hilo | hivyo | hiyo | hizo | huku | huo | huu | huyo | ili | ishirini | jana | kama | katika | kila | kule | kumi | kutoka | kuwa | kwa | kwamba | kwenye | la | laki | lakini | mbili | mia | moja | na | nane | ni | nne | nusu | pale | pia | saba | sabini | sasa | sita | sitini | taarifa | tano | tatu | thelathini | themanini | tisa | tisini | vya | wa | ya | yao | za | zao '"
            ]
          },
          "metadata": {},
          "execution_count": 3
        }
      ]
    },
    {
      "cell_type": "code",
      "metadata": {
        "id": "VAK5seYGQn2M"
      },
      "source": [
        "def get_article_chunks(word_list):\n",
        "    [\n",
        "        word_list.remove(st_word)\n",
        "        for st_word in stop_words\n",
        "        if st_word in word_list\n",
        "    ]\n",
        "    n = len(word_list)\n",
        "    if n < 20:\n",
        "        return None\n",
        "    elif 20 <= n <= 250:\n",
        "        return \" \".join(word_list )\n",
        "    else:\n",
        "        return [\n",
        "            \" \".join(word_list[idx: idx+250]) for idx in range(0, n, 250)\n",
        "        ]"
      ],
      "execution_count": 4,
      "outputs": []
    },
    {
      "cell_type": "code",
      "metadata": {
        "scrolled": true,
        "id": "inOph0c-Qn2N",
        "colab": {
          "base_uri": "https://localhost:8080/"
        },
        "outputId": "58a7d007-694c-4c57-8a7c-314a1b2a6390"
      },
      "source": [
        "expanded_data = (\n",
        "    data.content.str.replace(stop_words_regex, \" \", regex=True)\n",
        "    .str.split().apply(get_article_chunks)\n",
        "    .explode().dropna()\n",
        ")\n",
        "expanded_data.head()"
      ],
      "execution_count": 5,
      "outputs": [
        {
          "output_type": "execute_result",
          "data": {
            "text/plain": [
              "id\n",
              "SW0      SERIKALI imesema haitakuwa tayari kuona amani ...\n",
              "SW1      Mkuu Mkoa Tabora, Aggrey Mwanri amesitisha lik...\n",
              "SW10     SERIKALI imetoa miezi taasisi zote umma ambazo...\n",
              "SW10     wizara tunaamini haiwezi kutusumbua,” alisema....\n",
              "SW100    KAMPUNI mchezo kubahatisha M-bet imeingia maku...\n",
              "Name: content, dtype: object"
            ]
          },
          "metadata": {},
          "execution_count": 5
        }
      ]
    },
    {
      "cell_type": "code",
      "metadata": {
        "id": "xwyQfffNQn2N"
      },
      "source": [
        "categories_to_int = {\n",
        "    'Kitaifa': 0, \n",
        "    'michezo': 1,\n",
        "    'Biashara': 2,\n",
        "    'Kimataifa': 3,\n",
        "    'Burudani': 4\n",
        "}"
      ],
      "execution_count": 6,
      "outputs": []
    },
    {
      "cell_type": "code",
      "metadata": {
        "id": "KDX__QXCQn2O"
      },
      "source": [
        "BATCH_SIZE = 100\n",
        "EPOCHS = 10"
      ],
      "execution_count": 7,
      "outputs": []
    },
    {
      "cell_type": "code",
      "metadata": {
        "scrolled": true,
        "id": "XkDQGNi2Qn2P",
        "colab": {
          "base_uri": "https://localhost:8080/"
        },
        "outputId": "982f890c-d449-413b-b030-f9c89ea56d3e"
      },
      "source": [
        "train = expanded_data.sample(frac=0.8, random_state=0).to_frame()\n",
        "valid = expanded_data.drop(train.index)\n",
        "\n",
        "train_labels = [\n",
        "    categories_to_int.get(data[\"category\"][idx])\n",
        "    for idx in train.index\n",
        "]\n",
        "valid_labels = [\n",
        "    categories_to_int.get(data[\"category\"][idx])\n",
        "    for idx in valid.index\n",
        "]\n",
        "\n",
        "random_oversampler = RandomOverSampler(random_state=0)\n",
        "train_resampled, train_labels_resampled = random_oversampler.fit_resample(\n",
        "    train, train_labels\n",
        ")\n",
        "\n",
        "train_dataset = (\n",
        "    tf.data.Dataset.from_tensor_slices((train_resampled, train_labels_resampled))\n",
        "    .batch(BATCH_SIZE)\n",
        ")\n",
        "\n",
        "validation_dataset = (\n",
        "    tf.data.Dataset.from_tensor_slices((valid.values, valid_labels))\n",
        "    .batch(BATCH_SIZE)\n",
        ")"
      ],
      "execution_count": 8,
      "outputs": [
        {
          "output_type": "stream",
          "name": "stderr",
          "text": [
            "/usr/local/lib/python3.7/dist-packages/sklearn/utils/deprecation.py:87: FutureWarning: Function safe_indexing is deprecated; safe_indexing is deprecated in version 0.22 and will be removed in version 0.24.\n",
            "  warnings.warn(msg, category=FutureWarning)\n"
          ]
        }
      ]
    },
    {
      "cell_type": "code",
      "metadata": {
        "scrolled": true,
        "id": "p19dbYshQn2Q"
      },
      "source": [
        "vectorize_layer = tf.keras.layers.TextVectorization(\n",
        "    ngrams=2,\n",
        ")\n",
        "\n",
        "train_text = train_dataset.map(lambda x, y: x)\n",
        "vectorize_layer.adapt(train_text)"
      ],
      "execution_count": 9,
      "outputs": []
    },
    {
      "cell_type": "markdown",
      "metadata": {
        "id": "BvaH3BxSQn2S"
      },
      "source": [
        "# 2. Model Fitting"
      ]
    },
    {
      "cell_type": "code",
      "metadata": {
        "scrolled": true,
        "id": "C6jH8zibQn2T",
        "colab": {
          "base_uri": "https://localhost:8080/"
        },
        "outputId": "b316cae0-2139-4c7e-c6cf-a779fe55c29f"
      },
      "source": [
        "model = tf.keras.Sequential([\n",
        "    vectorize_layer,\n",
        "    layers.Embedding(vectorize_layer.vocabulary_size(), 64),\n",
        "    layers.Dropout(0.2),\n",
        "    layers.GlobalAveragePooling1D(),\n",
        "    layers.Dropout(0.2),\n",
        "    layers.Dense(64, activation=\"relu\"),\n",
        "    layers.Dense(5, activation=\"softmax\")\n",
        "])\n",
        "model.compile(\n",
        "    optimizer=\"Adam\",\n",
        "    loss=\"sparse_categorical_crossentropy\",\n",
        "    metrics=[\"accuracy\"]\n",
        ")\n",
        "model.summary()"
      ],
      "execution_count": 10,
      "outputs": [
        {
          "output_type": "stream",
          "name": "stdout",
          "text": [
            "Model: \"sequential\"\n",
            "_________________________________________________________________\n",
            "Layer (type)                 Output Shape              Param #   \n",
            "=================================================================\n",
            "text_vectorization (TextVect (None, None)              0         \n",
            "_________________________________________________________________\n",
            "embedding (Embedding)        (None, None, 64)          39691904  \n",
            "_________________________________________________________________\n",
            "dropout (Dropout)            (None, None, 64)          0         \n",
            "_________________________________________________________________\n",
            "global_average_pooling1d (Gl (None, 64)                0         \n",
            "_________________________________________________________________\n",
            "dropout_1 (Dropout)          (None, 64)                0         \n",
            "_________________________________________________________________\n",
            "dense (Dense)                (None, 64)                4160      \n",
            "_________________________________________________________________\n",
            "dense_1 (Dense)              (None, 5)                 325       \n",
            "=================================================================\n",
            "Total params: 39,696,389\n",
            "Trainable params: 39,696,389\n",
            "Non-trainable params: 0\n",
            "_________________________________________________________________\n"
          ]
        }
      ]
    },
    {
      "cell_type": "code",
      "metadata": {
        "scrolled": true,
        "id": "mbGdEuyEQn2U",
        "colab": {
          "base_uri": "https://localhost:8080/"
        },
        "outputId": "3174b517-46e0-4286-c606-b95d862bda08"
      },
      "source": [
        "history = model.fit(\n",
        "    train_dataset,\n",
        "    validation_data=validation_dataset,\n",
        "    epochs=EPOCHS\n",
        ")"
      ],
      "execution_count": 11,
      "outputs": [
        {
          "output_type": "stream",
          "name": "stdout",
          "text": [
            "Epoch 1/10\n",
            "122/122 [==============================] - 7s 50ms/step - loss: 1.7193 - accuracy: 0.2139 - val_loss: 1.6226 - val_accuracy: 0.2205\n",
            "Epoch 2/10\n",
            "122/122 [==============================] - 6s 48ms/step - loss: 1.4184 - accuracy: 0.4513 - val_loss: 1.4107 - val_accuracy: 0.4169\n",
            "Epoch 3/10\n",
            "122/122 [==============================] - 6s 47ms/step - loss: 0.9810 - accuracy: 0.6166 - val_loss: 0.9951 - val_accuracy: 0.5446\n",
            "Epoch 4/10\n",
            "122/122 [==============================] - 6s 47ms/step - loss: 0.6590 - accuracy: 0.7627 - val_loss: 0.8157 - val_accuracy: 0.5976\n",
            "Epoch 5/10\n",
            "122/122 [==============================] - 6s 48ms/step - loss: 0.4426 - accuracy: 0.8322 - val_loss: 0.7173 - val_accuracy: 0.6253\n",
            "Epoch 6/10\n",
            "122/122 [==============================] - 6s 48ms/step - loss: 0.3099 - accuracy: 0.9047 - val_loss: 0.6162 - val_accuracy: 0.6904\n",
            "Epoch 7/10\n",
            "122/122 [==============================] - 6s 47ms/step - loss: 0.2161 - accuracy: 0.9427 - val_loss: 0.5318 - val_accuracy: 0.7578\n",
            "Epoch 8/10\n",
            "122/122 [==============================] - 6s 48ms/step - loss: 0.1525 - accuracy: 0.9623 - val_loss: 0.4763 - val_accuracy: 0.7988\n",
            "Epoch 9/10\n",
            "122/122 [==============================] - 6s 47ms/step - loss: 0.1101 - accuracy: 0.9720 - val_loss: 0.4395 - val_accuracy: 0.8289\n",
            "Epoch 10/10\n",
            "122/122 [==============================] - 6s 47ms/step - loss: 0.0815 - accuracy: 0.9794 - val_loss: 0.4176 - val_accuracy: 0.8446\n"
          ]
        }
      ]
    },
    {
      "cell_type": "code",
      "metadata": {
        "colab": {
          "base_uri": "https://localhost:8080/",
          "height": 282
        },
        "id": "yjVvX7OkpaGK",
        "outputId": "27a8928a-6b30-43b0-e3f9-47b541b3b15d"
      },
      "source": [
        "pd.DataFrame(history.history).plot()"
      ],
      "execution_count": 12,
      "outputs": [
        {
          "output_type": "execute_result",
          "data": {
            "text/plain": [
              "<matplotlib.axes._subplots.AxesSubplot at 0x7f36e034af10>"
            ]
          },
          "metadata": {},
          "execution_count": 12
        },
        {
          "output_type": "display_data",
          "data": {
            "image/png": "[encoded data removed]",
            "text/plain": [
              "<Figure size 432x288 with 1 Axes>"
            ]
          },
          "metadata": {
            "needs_background": "light"
          }
        }
      ]
    },
    {
      "cell_type": "code",
      "metadata": {
        "id": "iC9VHl0eQn2V",
        "colab": {
          "base_uri": "https://localhost:8080/",
          "height": 238
        },
        "outputId": "44c31192-4fb2-4840-8b45-f01546517e93"
      },
      "source": [
        "sample_submission.loc[:, :] = model.predict(test.values)\n",
        "sample_submission.head()"
      ],
      "execution_count": 13,
      "outputs": [
        {
          "output_type": "execute_result",
          "data": {
            "text/html": [
              "<div>\n",
              "<style scoped>\n",
              "    .dataframe tbody tr th:only-of-type {\n",
              "        vertical-align: middle;\n",
              "    }\n",
              "\n",
              "    .dataframe tbody tr th {\n",
              "        vertical-align: top;\n",
              "    }\n",
              "\n",
              "    .dataframe thead th {\n",
              "        text-align: right;\n",
              "    }\n",
              "</style>\n",
              "<table border=\"1\" class=\"dataframe\">\n",
              "  <thead>\n",
              "    <tr style=\"text-align: right;\">\n",
              "      <th></th>\n",
              "      <th>kitaifa</th>\n",
              "      <th>michezo</th>\n",
              "      <th>biashara</th>\n",
              "      <th>kimataifa</th>\n",
              "      <th>burudani</th>\n",
              "    </tr>\n",
              "    <tr>\n",
              "      <th>swahili_id</th>\n",
              "      <th></th>\n",
              "      <th></th>\n",
              "      <th></th>\n",
              "      <th></th>\n",
              "      <th></th>\n",
              "    </tr>\n",
              "  </thead>\n",
              "  <tbody>\n",
              "    <tr>\n",
              "      <th>001dd47ac202d9db6624a5ff734a5e7dddafeaf2</th>\n",
              "      <td>0.358346</td>\n",
              "      <td>0.112744</td>\n",
              "      <td>0.511715</td>\n",
              "      <td>0.015453</td>\n",
              "      <td>0.001742</td>\n",
              "    </tr>\n",
              "    <tr>\n",
              "      <th>0043d97f7690e9bc02f0ed8bb2b260d1d44bad92</th>\n",
              "      <td>0.044039</td>\n",
              "      <td>0.783895</td>\n",
              "      <td>0.158318</td>\n",
              "      <td>0.011516</td>\n",
              "      <td>0.002232</td>\n",
              "    </tr>\n",
              "    <tr>\n",
              "      <th>00579c2307b5c11003d21c40c3ecff5e922c3fd8</th>\n",
              "      <td>0.122143</td>\n",
              "      <td>0.174849</td>\n",
              "      <td>0.689402</td>\n",
              "      <td>0.010836</td>\n",
              "      <td>0.002771</td>\n",
              "    </tr>\n",
              "    <tr>\n",
              "      <th>00868eeee349e286303706ef0ffd851f39708d37</th>\n",
              "      <td>0.159117</td>\n",
              "      <td>0.350212</td>\n",
              "      <td>0.456944</td>\n",
              "      <td>0.027936</td>\n",
              "      <td>0.005792</td>\n",
              "    </tr>\n",
              "    <tr>\n",
              "      <th>00a5cb12d3058dcf2e42f277eee599992db32412</th>\n",
              "      <td>0.176541</td>\n",
              "      <td>0.086053</td>\n",
              "      <td>0.728748</td>\n",
              "      <td>0.007307</td>\n",
              "      <td>0.001351</td>\n",
              "    </tr>\n",
              "  </tbody>\n",
              "</table>\n",
              "</div>"
            ],
            "text/plain": [
              "                                           kitaifa  ...  burudani\n",
              "swahili_id                                          ...          \n",
              "001dd47ac202d9db6624a5ff734a5e7dddafeaf2  0.358346  ...  0.001742\n",
              "0043d97f7690e9bc02f0ed8bb2b260d1d44bad92  0.044039  ...  0.002232\n",
              "00579c2307b5c11003d21c40c3ecff5e922c3fd8  0.122143  ...  0.002771\n",
              "00868eeee349e286303706ef0ffd851f39708d37  0.159117  ...  0.005792\n",
              "00a5cb12d3058dcf2e42f277eee599992db32412  0.176541  ...  0.001351\n",
              "\n",
              "[5 rows x 5 columns]"
            ]
          },
          "metadata": {},
          "execution_count": 13
        }
      ]
    },
    {
      "cell_type": "code",
      "metadata": {
        "id": "Q7K7CvzDQn2V"
      },
      "source": [
        "sample_submission.to_csv(\"submission.csv\")"
      ],
      "execution_count": 14,
      "outputs": []
    }
  ]
}