{
  "nbformat": 4,
  "nbformat_minor": 0,
  "metadata": {
    "colab": {
      "name": "zindi-tweet-classification.ipynb",
      "provenance": []
    },
    "kernelspec": {
      "name": "python3",
      "display_name": "Python 3"
    },
    "language_info": {
      "name": "python"
    },
    "accelerator": "GPU"
  },
  "cells": [
    {
      "cell_type": "code",
      "metadata": {
        "id": "Hy6Gnl_40h3N"
      },
      "source": [
        "!pip install -q -U tensorflow-text\n",
        "!pip install -q tf-models-official"
      ],
      "execution_count": 1,
      "outputs": []
    },
    {
      "cell_type": "code",
      "metadata": {
        "id": "r1JUInXbzbC6"
      },
      "source": [
        "import matplotlib.pyplot as plt\n",
        "plt.rc(\"axes\", titlesize=18, titleweight=\"bold\")\n",
        "plt.rc(\"axes.spines\", right=False, top=False)\n",
        "plt.rc(\"figure\", autolayout=True)\n",
        "\n",
        "import pandas as pd\n",
        "import tensorflow as tf\n",
        "import tensorflow_hub as hub\n",
        "import tensorflow_text as text\n",
        "from official.nlp import optimization\n",
        "from sklearn.model_selection import train_test_split\n",
        "from tensorflow.keras import layers"
      ],
      "execution_count": 2,
      "outputs": []
    },
    {
      "cell_type": "code",
      "metadata": {
        "colab": {
          "base_uri": "https://localhost:8080/",
          "height": 238
        },
        "id": "gQafu50szs4Z",
        "outputId": "9b05ae15-c7f7-497e-cf11-1bcd792ee54b"
      },
      "source": [
        "train = pd.read_csv(\"train.csv\", index_col=0)\n",
        "test = pd.read_csv(\"test.csv\", index_col=0)\n",
        "sample_submission = pd.read_csv(\"sample_submission.csv\", index_col=0)\n",
        "\n",
        "train.head()"
      ],
      "execution_count": 3,
      "outputs": [
        {
          "output_type": "execute_result",
          "data": {
            "text/html": [
              "<div>\n",
              "<style scoped>\n",
              "    .dataframe tbody tr th:only-of-type {\n",
              "        vertical-align: middle;\n",
              "    }\n",
              "\n",
              "    .dataframe tbody tr th {\n",
              "        vertical-align: top;\n",
              "    }\n",
              "\n",
              "    .dataframe thead th {\n",
              "        text-align: right;\n",
              "    }\n",
              "</style>\n",
              "<table border=\"1\" class=\"dataframe\">\n",
              "  <thead>\n",
              "    <tr style=\"text-align: right;\">\n",
              "      <th></th>\n",
              "      <th>safe_text</th>\n",
              "      <th>label</th>\n",
              "      <th>agreement</th>\n",
              "    </tr>\n",
              "    <tr>\n",
              "      <th>tweet_id</th>\n",
              "      <th></th>\n",
              "      <th></th>\n",
              "      <th></th>\n",
              "    </tr>\n",
              "  </thead>\n",
              "  <tbody>\n",
              "    <tr>\n",
              "      <th>CL1KWCMY</th>\n",
              "      <td>Me &amp;amp; The Big Homie meanboy3000 #MEANBOY #M...</td>\n",
              "      <td>0.0</td>\n",
              "      <td>1.0</td>\n",
              "    </tr>\n",
              "    <tr>\n",
              "      <th>E3303EME</th>\n",
              "      <td>I'm 100% thinking of devoting my career to pro...</td>\n",
              "      <td>1.0</td>\n",
              "      <td>1.0</td>\n",
              "    </tr>\n",
              "    <tr>\n",
              "      <th>M4IVFSMS</th>\n",
              "      <td>#whatcausesautism VACCINES, DO NOT VACCINATE Y...</td>\n",
              "      <td>-1.0</td>\n",
              "      <td>1.0</td>\n",
              "    </tr>\n",
              "    <tr>\n",
              "      <th>1DR6ROZ4</th>\n",
              "      <td>I mean if they immunize my kid with something ...</td>\n",
              "      <td>-1.0</td>\n",
              "      <td>1.0</td>\n",
              "    </tr>\n",
              "    <tr>\n",
              "      <th>J77ENIIE</th>\n",
              "      <td>Thanks to &lt;user&gt; Catch me performing at La Nui...</td>\n",
              "      <td>0.0</td>\n",
              "      <td>1.0</td>\n",
              "    </tr>\n",
              "  </tbody>\n",
              "</table>\n",
              "</div>"
            ],
            "text/plain": [
              "                                                  safe_text  label  agreement\n",
              "tweet_id                                                                     \n",
              "CL1KWCMY  Me &amp; The Big Homie meanboy3000 #MEANBOY #M...    0.0        1.0\n",
              "E3303EME  I'm 100% thinking of devoting my career to pro...    1.0        1.0\n",
              "M4IVFSMS  #whatcausesautism VACCINES, DO NOT VACCINATE Y...   -1.0        1.0\n",
              "1DR6ROZ4  I mean if they immunize my kid with something ...   -1.0        1.0\n",
              "J77ENIIE  Thanks to <user> Catch me performing at La Nui...    0.0        1.0"
            ]
          },
          "metadata": {},
          "execution_count": 3
        }
      ]
    },
    {
      "cell_type": "code",
      "metadata": {
        "colab": {
          "base_uri": "https://localhost:8080/",
          "height": 315
        },
        "id": "s3iKLchDz_nP",
        "outputId": "fe5d32d6-0c17-40ea-a830-5206ede19a29"
      },
      "source": [
        "train[\"agreement\"].value_counts().plot.bar(title=\"Agreement\")"
      ],
      "execution_count": 4,
      "outputs": [
        {
          "output_type": "execute_result",
          "data": {
            "text/plain": [
              "<matplotlib.axes._subplots.AxesSubplot at 0x7f53a4f29550>"
            ]
          },
          "metadata": {},
          "execution_count": 4
        },
        {
          "output_type": "display_data",
          "data": {
            "image/png": "[encoded data removed]",
            "text/plain": [
              "<Figure size 432x288 with 1 Axes>"
            ]
          },
          "metadata": {
            "needs_background": "light"
          }
        }
      ]
    },
    {
      "cell_type": "code",
      "metadata": {
        "colab": {
          "base_uri": "https://localhost:8080/",
          "height": 315
        },
        "id": "a0GYicvYd3tt",
        "outputId": "da18395e-d1ee-4b92-f7c7-cc0bb0631aa9"
      },
      "source": [
        "train[\"label\"].value_counts().plot.bar(title=\"Label\")"
      ],
      "execution_count": 5,
      "outputs": [
        {
          "output_type": "execute_result",
          "data": {
            "text/plain": [
              "<matplotlib.axes._subplots.AxesSubplot at 0x7f539ce08ad0>"
            ]
          },
          "metadata": {},
          "execution_count": 5
        },
        {
          "output_type": "display_data",
          "data": {
            "image/png": "[encoded data removed]",
            "text/plain": [
              "<Figure size 432x288 with 1 Axes>"
            ]
          },
          "metadata": {
            "needs_background": "light"
          }
        }
      ]
    },
    {
      "cell_type": "code",
      "metadata": {
        "colab": {
          "base_uri": "https://localhost:8080/"
        },
        "id": "IiWAmDk32aoX",
        "outputId": "145bcc46-5faa-41f3-877e-646bd94e3893"
      },
      "source": [
        "BATCH_SIZE = 128\n",
        "EPOCHS = 30\n",
        "\n",
        "\n",
        "data = train.query(\"agreement > 0.6 and label in [-1.0, 1.0, 0]\")\n",
        "\n",
        "# Remove HTML tags\n",
        "X = (\n",
        "        data[\"safe_text\"].str.lower()\n",
        "        .str.replace(\n",
        "            pat='<.*?>|&([a-z0-9]+|#[0-9]{1,6}|#x[0-9a-f]{1,6});',\n",
        "            repl=\" \",\n",
        "            case=False,\n",
        "            regex=True\n",
        "        )\n",
        ")\n",
        "y = data[\"label\"]\n",
        "\n",
        "X.head()"
      ],
      "execution_count": 6,
      "outputs": [
        {
          "output_type": "execute_result",
          "data": {
            "text/plain": [
              "tweet_id\n",
              "CL1KWCMY    me   the big homie meanboy3000 #meanboy #mb #m...\n",
              "E3303EME    i'm 100% thinking of devoting my career to pro...\n",
              "M4IVFSMS    #whatcausesautism vaccines, do not vaccinate y...\n",
              "1DR6ROZ4    i mean if they immunize my kid with something ...\n",
              "J77ENIIE    thanks to   catch me performing at la nuit nyc...\n",
              "Name: safe_text, dtype: object"
            ]
          },
          "metadata": {},
          "execution_count": 6
        }
      ]
    },
    {
      "cell_type": "code",
      "metadata": {
        "id": "3yJFbErk0PDJ"
      },
      "source": [
        "X_train, X_valid, y_train, y_valid = train_test_split(X, y, random_state=3)\n",
        "\n",
        "train_dataset = tf.data.Dataset.from_tensor_slices(\n",
        "    (X_train, y_train)\n",
        ").batch(BATCH_SIZE)\n",
        "\n",
        "valid_dataset = tf.data.Dataset.from_tensor_slices(\n",
        "    (X_valid, y_valid)\n",
        ").batch(BATCH_SIZE)\n",
        "\n",
        "test_dataset = tf.data.Dataset.from_tensor_slices(\n",
        "    test[\"safe_text\"].fillna(\"\")\n",
        ").batch(BATCH_SIZE)"
      ],
      "execution_count": 7,
      "outputs": []
    },
    {
      "cell_type": "code",
      "metadata": {
        "id": "JStZ3nV40gjw"
      },
      "source": [
        "bert_model_name = \"https://tfhub.dev/tensorflow/small_bert/bert_en_uncased_L-4_H-256_A-4/2\"\n",
        "bert_model_preprocess = \"https://tfhub.dev/tensorflow/bert_en_uncased_preprocess/3\"\n",
        "\n",
        "\n",
        "def build_classifier_model():\n",
        "    text_input = tf.keras.layers.Input(shape=(), dtype=tf.string)\n",
        "    preprocessing_layer = hub.KerasLayer(bert_model_preprocess)\n",
        "    encoder_inputs = preprocessing_layer(text_input)\n",
        "    encoder = hub.KerasLayer(bert_model_name, trainable=True)\n",
        "    outputs = encoder(encoder_inputs)\n",
        "    net = outputs['pooled_output']\n",
        "    net = tf.keras.layers.Dropout(0.2)(net)\n",
        "    net = tf.keras.layers.Dense(1, activation=\"tanh\")(net)\n",
        "    return tf.keras.Model(text_input, net)\n",
        "\n",
        "\n",
        "model = build_classifier_model()"
      ],
      "execution_count": 8,
      "outputs": []
    },
    {
      "cell_type": "code",
      "metadata": {
        "id": "X2ABe8Fl6QCP"
      },
      "source": [
        "steps_per_epoch = tf.data.experimental.cardinality(train_dataset).numpy()\n",
        "num_train_steps = steps_per_epoch * EPOCHS\n",
        "num_warmup_steps = int(0.1*num_train_steps)\n",
        "\n",
        "optimizer = optimization.create_optimizer(init_lr=3e-5,\n",
        "                                          num_train_steps=num_train_steps,\n",
        "                                          num_warmup_steps=num_warmup_steps,\n",
        "                                          optimizer_type='adamw')\n",
        "\n",
        "model.compile(\n",
        "    optimizer=optimizer,\n",
        "    loss=\"mse\"\n",
        ")"
      ],
      "execution_count": 9,
      "outputs": []
    },
    {
      "cell_type": "code",
      "metadata": {
        "colab": {
          "base_uri": "https://localhost:8080/"
        },
        "id": "3GLAfhpN65nW",
        "outputId": "dc229c89-5549-440b-ac97-ce2c63e1e4b6"
      },
      "source": [
        "early_stopping = tf.keras.callbacks.EarlyStopping(\n",
        "    min_delta=1e-4, patience=3, restore_best_weights=True\n",
        ")\n",
        "\n",
        "history = model.fit(\n",
        "    train_dataset,\n",
        "    validation_data=valid_dataset,\n",
        "    epochs=EPOCHS,\n",
        "    callbacks=[early_stopping],\n",
        ")"
      ],
      "execution_count": 10,
      "outputs": [
        {
          "output_type": "stream",
          "name": "stdout",
          "text": [
            "Epoch 1/30\n",
            "58/58 [==============================] - 87s 1s/step - loss: 0.7901 - val_loss: 0.4430\n",
            "Epoch 2/30\n",
            "58/58 [==============================] - 81s 1s/step - loss: 0.5045 - val_loss: 0.3721\n",
            "Epoch 3/30\n",
            "58/58 [==============================] - 81s 1s/step - loss: 0.4567 - val_loss: 0.3703\n",
            "Epoch 4/30\n",
            "58/58 [==============================] - 80s 1s/step - loss: 0.4156 - val_loss: 0.3349\n",
            "Epoch 5/30\n",
            "58/58 [==============================] - 81s 1s/step - loss: 0.3793 - val_loss: 0.3440\n",
            "Epoch 6/30\n",
            "58/58 [==============================] - 81s 1s/step - loss: 0.3604 - val_loss: 0.3198\n",
            "Epoch 7/30\n",
            "58/58 [==============================] - 81s 1s/step - loss: 0.3409 - val_loss: 0.3125\n",
            "Epoch 8/30\n",
            "58/58 [==============================] - 81s 1s/step - loss: 0.3300 - val_loss: 0.3211\n",
            "Epoch 9/30\n",
            "58/58 [==============================] - 81s 1s/step - loss: 0.3140 - val_loss: 0.3127\n",
            "Epoch 10/30\n",
            "58/58 [==============================] - 81s 1s/step - loss: 0.2995 - val_loss: 0.3120\n",
            "Epoch 11/30\n",
            "58/58 [==============================] - 81s 1s/step - loss: 0.2933 - val_loss: 0.3099\n",
            "Epoch 12/30\n",
            "58/58 [==============================] - 81s 1s/step - loss: 0.2817 - val_loss: 0.3099\n",
            "Epoch 13/30\n",
            "58/58 [==============================] - 81s 1s/step - loss: 0.2777 - val_loss: 0.3016\n",
            "Epoch 14/30\n",
            "58/58 [==============================] - 81s 1s/step - loss: 0.2573 - val_loss: 0.3063\n",
            "Epoch 15/30\n",
            "58/58 [==============================] - 81s 1s/step - loss: 0.2596 - val_loss: 0.3048\n",
            "Epoch 16/30\n",
            "58/58 [==============================] - 80s 1s/step - loss: 0.2461 - val_loss: 0.3017\n"
          ]
        }
      ]
    },
    {
      "cell_type": "code",
      "metadata": {
        "colab": {
          "base_uri": "https://localhost:8080/",
          "height": 315
        },
        "id": "aEkc63RA8Hms",
        "outputId": "cb01fe3f-5021-40d6-8b3d-1ffc56c43234"
      },
      "source": [
        "pd.DataFrame(history.history).plot()"
      ],
      "execution_count": 11,
      "outputs": [
        {
          "output_type": "execute_result",
          "data": {
            "text/plain": [
              "<matplotlib.axes._subplots.AxesSubplot at 0x7f531b3cf7d0>"
            ]
          },
          "metadata": {},
          "execution_count": 11
        },
        {
          "output_type": "display_data",
          "data": {
            "image/png": "[encoded data removed]",
            "text/plain": [
              "<Figure size 432x288 with 1 Axes>"
            ]
          },
          "metadata": {
            "needs_background": "light"
          }
        }
      ]
    },
    {
      "cell_type": "code",
      "metadata": {
        "colab": {
          "base_uri": "https://localhost:8080/",
          "height": 238
        },
        "id": "yO_WSMVdBTN_",
        "outputId": "4b220ef9-a902-4581-ec40-bfa936f6a561"
      },
      "source": [
        "sample_submission[\"label\"] = model.predict(test_dataset)\n",
        "sample_submission.head()"
      ],
      "execution_count": 12,
      "outputs": [
        {
          "output_type": "execute_result",
          "data": {
            "text/html": [
              "<div>\n",
              "<style scoped>\n",
              "    .dataframe tbody tr th:only-of-type {\n",
              "        vertical-align: middle;\n",
              "    }\n",
              "\n",
              "    .dataframe tbody tr th {\n",
              "        vertical-align: top;\n",
              "    }\n",
              "\n",
              "    .dataframe thead th {\n",
              "        text-align: right;\n",
              "    }\n",
              "</style>\n",
              "<table border=\"1\" class=\"dataframe\">\n",
              "  <thead>\n",
              "    <tr style=\"text-align: right;\">\n",
              "      <th></th>\n",
              "      <th>label</th>\n",
              "    </tr>\n",
              "    <tr>\n",
              "      <th>tweet_id</th>\n",
              "      <th></th>\n",
              "    </tr>\n",
              "  </thead>\n",
              "  <tbody>\n",
              "    <tr>\n",
              "      <th>00BHHHP1</th>\n",
              "      <td>0.273839</td>\n",
              "    </tr>\n",
              "    <tr>\n",
              "      <th>00UNMD0E</th>\n",
              "      <td>0.630875</td>\n",
              "    </tr>\n",
              "    <tr>\n",
              "      <th>01AXPTJF</th>\n",
              "      <td>0.181454</td>\n",
              "    </tr>\n",
              "    <tr>\n",
              "      <th>01HOEQJW</th>\n",
              "      <td>0.715906</td>\n",
              "    </tr>\n",
              "    <tr>\n",
              "      <th>01JUKMAO</th>\n",
              "      <td>0.181460</td>\n",
              "    </tr>\n",
              "  </tbody>\n",
              "</table>\n",
              "</div>"
            ],
            "text/plain": [
              "             label\n",
              "tweet_id          \n",
              "00BHHHP1  0.273839\n",
              "00UNMD0E  0.630875\n",
              "01AXPTJF  0.181454\n",
              "01HOEQJW  0.715906\n",
              "01JUKMAO  0.181460"
            ]
          },
          "metadata": {},
          "execution_count": 12
        }
      ]
    },
    {
      "cell_type": "code",
      "metadata": {
        "id": "22lS4AOnBVy-"
      },
      "source": [
        "sample_submission.to_csv(\"submission.csv\")"
      ],
      "execution_count": 13,
      "outputs": []
    }
  ]
}
