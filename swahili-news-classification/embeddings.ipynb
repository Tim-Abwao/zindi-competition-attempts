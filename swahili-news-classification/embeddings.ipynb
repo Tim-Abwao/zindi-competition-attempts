{
  "nbformat": 4,
  "nbformat_minor": 0,
  "metadata": {
    "accelerator": "GPU",
    "colab": {
      "name": "bert_swahili-news-classification.ipynb",
      "provenance": [],
      "collapsed_sections": []
    },
    "kernelspec": {
      "display_name": "Python 3 (ipykernel)",
      "language": "python",
      "name": "python3"
    },
    "language_info": {
      "codemirror_mode": {
        "name": "ipython",
        "version": 3
      },
      "file_extension": ".py",
      "mimetype": "text/x-python",
      "name": "python",
      "nbconvert_exporter": "python",
      "pygments_lexer": "ipython3",
      "version": "3.8.10"
    }
  },
  "cells": [
    {
      "cell_type": "code",
      "metadata": {
        "id": "Ljo6kq9FziNH"
      },
      "source": [
        "!pip install -q -U tensorflow-text\n",
        "!pip install -q tf-models-official"
      ],
      "execution_count": 1,
      "outputs": []
    },
    {
      "cell_type": "code",
      "metadata": {
        "colab": {
          "base_uri": "https://localhost:8080/"
        },
        "id": "zAAwWYNQQn2F",
        "outputId": "1750683d-27e3-40ec-8de6-b12e96b64e39"
      },
      "source": [
        "import pandas as pd\n",
        "import numpy as np\n",
        "\n",
        "from sklearn.model_selection import train_test_split\n",
        "import tensorflow as tf\n",
        "import tensorflow_hub as hub\n",
        "import tensorflow_text as text\n",
        "from official.nlp import optimization  # to create AdamW optimizer\n",
        "from tensorflow.keras import layers\n",
        "\n",
        "tf.random.set_seed(7)\n",
        "print(tf.__version__)"
      ],
      "execution_count": 2,
      "outputs": [
        {
          "output_type": "stream",
          "name": "stdout",
          "text": [
            "2.6.0\n"
          ]
        }
      ]
    },
    {
      "cell_type": "code",
      "metadata": {
        "colab": {
          "base_uri": "https://localhost:8080/",
          "height": 238
        },
        "id": "NIY5D47jQn2J",
        "scrolled": false,
        "outputId": "54a5ae7e-b6a2-4a81-d079-b489a143e5b9"
      },
      "source": [
        "data = pd.read_csv('train.csv', index_col=0)\n",
        "test = pd.read_csv(\"test.csv\", index_col=0)\n",
        "sample_submission = pd.read_csv(\"sample_submission.csv\", index_col=0)\n",
        "data.head()"
      ],
      "execution_count": 3,
      "outputs": [
        {
          "output_type": "execute_result",
          "data": {
            "text/html": [
              "<div>\n",
              "<style scoped>\n",
              "    .dataframe tbody tr th:only-of-type {\n",
              "        vertical-align: middle;\n",
              "    }\n",
              "\n",
              "    .dataframe tbody tr th {\n",
              "        vertical-align: top;\n",
              "    }\n",
              "\n",
              "    .dataframe thead th {\n",
              "        text-align: right;\n",
              "    }\n",
              "</style>\n",
              "<table border=\"1\" class=\"dataframe\">\n",
              "  <thead>\n",
              "    <tr style=\"text-align: right;\">\n",
              "      <th></th>\n",
              "      <th>content</th>\n",
              "      <th>category</th>\n",
              "    </tr>\n",
              "    <tr>\n",
              "      <th>id</th>\n",
              "      <th></th>\n",
              "      <th></th>\n",
              "    </tr>\n",
              "  </thead>\n",
              "  <tbody>\n",
              "    <tr>\n",
              "      <th>SW0</th>\n",
              "      <td>SERIKALI imesema haitakuwa tayari kuona amani...</td>\n",
              "      <td>Kitaifa</td>\n",
              "    </tr>\n",
              "    <tr>\n",
              "      <th>SW1</th>\n",
              "      <td>Mkuu wa Mkoa wa Tabora, Aggrey Mwanri amesiti...</td>\n",
              "      <td>Biashara</td>\n",
              "    </tr>\n",
              "    <tr>\n",
              "      <th>SW10</th>\n",
              "      <td>SERIKALI imetoa miezi sita kwa taasisi zote z...</td>\n",
              "      <td>Kitaifa</td>\n",
              "    </tr>\n",
              "    <tr>\n",
              "      <th>SW100</th>\n",
              "      <td>KAMPUNI ya mchezo wa kubahatisha ya M-bet ime...</td>\n",
              "      <td>michezo</td>\n",
              "    </tr>\n",
              "    <tr>\n",
              "      <th>SW1000</th>\n",
              "      <td>WATANZANIA wamekumbushwa kusherehekea sikukuu...</td>\n",
              "      <td>Kitaifa</td>\n",
              "    </tr>\n",
              "  </tbody>\n",
              "</table>\n",
              "</div>"
            ],
            "text/plain": [
              "                                                  content  category\n",
              "id                                                                 \n",
              "SW0      SERIKALI imesema haitakuwa tayari kuona amani...   Kitaifa\n",
              "SW1      Mkuu wa Mkoa wa Tabora, Aggrey Mwanri amesiti...  Biashara\n",
              "SW10     SERIKALI imetoa miezi sita kwa taasisi zote z...   Kitaifa\n",
              "SW100    KAMPUNI ya mchezo wa kubahatisha ya M-bet ime...   michezo\n",
              "SW1000   WATANZANIA wamekumbushwa kusherehekea sikukuu...   Kitaifa"
            ]
          },
          "metadata": {},
          "execution_count": 3
        }
      ]
    },
    {
      "cell_type": "code",
      "metadata": {
        "id": "xwyQfffNQn2N"
      },
      "source": [
        "categories_to_int = {\n",
        "    'Kitaifa': 0, \n",
        "    'michezo': 1,\n",
        "    'Biashara': 2,\n",
        "    'Kimataifa': 3,\n",
        "    'Burudani': 4\n",
        "}"
      ],
      "execution_count": 4,
      "outputs": []
    },
    {
      "cell_type": "code",
      "metadata": {
        "id": "KDX__QXCQn2O"
      },
      "source": [
        "BATCH_SIZE = 32\n",
        "EPOCHS = 50"
      ],
      "execution_count": 5,
      "outputs": []
    },
    {
      "cell_type": "code",
      "metadata": {
        "id": "XkDQGNi2Qn2P",
        "scrolled": true
      },
      "source": [
        "train, valid, train_labels, valid_labels = train_test_split(\n",
        "    data[[\"content\"]], data[\"category\"].map(categories_to_int), random_state=2\n",
        ")\n",
        "\n",
        "train_dataset = (\n",
        "    tf.data.Dataset.from_tensor_slices((train, train_labels))\n",
        "    .batch(BATCH_SIZE)\n",
        ")\n",
        "\n",
        "validation_dataset = (\n",
        "    tf.data.Dataset.from_tensor_slices((valid, valid_labels))\n",
        "    .batch(BATCH_SIZE)\n",
        ")"
      ],
      "execution_count": 6,
      "outputs": []
    },
    {
      "cell_type": "markdown",
      "metadata": {
        "id": "BvaH3BxSQn2S"
      },
      "source": [
        "# Model Fitting"
      ]
    },
    {
      "cell_type": "code",
      "metadata": {
        "id": "UkHWDlEd0vgz"
      },
      "source": [
        "tfhub_handle_encoder = \"https://tfhub.dev/tensorflow/small_bert/bert_en_uncased_L-4_H-256_A-4/2\"\n",
        "tfhub_handle_preprocess = \"https://tfhub.dev/tensorflow/bert_en_uncased_preprocess/3\"\n",
        "\n",
        "\n",
        "def build_classifier_model():\n",
        "    text_input = layers.Input(shape=(), dtype=tf.string, name='text')\n",
        "    preprocessing_layer = hub.KerasLayer(tfhub_handle_preprocess, name='preprocessing')\n",
        "    encoder_inputs = preprocessing_layer(text_input)\n",
        "    encoder = hub.KerasLayer(tfhub_handle_encoder, trainable=True, name='BERT_encoder')\n",
        "    outputs = encoder(encoder_inputs)\n",
        "    net = outputs['pooled_output']\n",
        "    net = layers.Dropout(0.1)(net)\n",
        "    net = layers.Dense(5, activation=\"softmax\", name='classifier')(net)\n",
        "    return tf.keras.Model(text_input, net)\n",
        "\n",
        "\n",
        "model = build_classifier_model()"
      ],
      "execution_count": 7,
      "outputs": []
    },
    {
      "cell_type": "code",
      "metadata": {
        "id": "fA-w1fxX5Tbv"
      },
      "source": [
        "steps_per_epoch = tf.data.experimental.cardinality(train_dataset).numpy()\n",
        "num_train_steps = steps_per_epoch * EPOCHS\n",
        "num_warmup_steps = int(0.1*num_train_steps)\n",
        "\n",
        "init_lr = 2e-5\n",
        "optimizer = optimization.create_optimizer(init_lr=init_lr,\n",
        "                                          num_train_steps=num_train_steps,\n",
        "                                          num_warmup_steps=num_warmup_steps,\n",
        "                                          optimizer_type='adamw')\n",
        "\n",
        "model.compile(\n",
        "    optimizer=optimizer,\n",
        "    loss=\"sparse_categorical_crossentropy\",\n",
        "    metrics=\"accuracy\"\n",
        ")"
      ],
      "execution_count": 8,
      "outputs": []
    },
    {
      "cell_type": "code",
      "metadata": {
        "colab": {
          "base_uri": "https://localhost:8080/"
        },
        "id": "H35Lyplgr6Js",
        "outputId": "174201aa-df79-4b14-e64c-2d83b8a9e1d0"
      },
      "source": [
        "early_stopping = tf.keras.callbacks.EarlyStopping(\n",
        "    min_delta=1e-4,\n",
        "    patience=4,\n",
        "    restore_best_weights=True\n",
        ")\n",
        "\n",
        "\n",
        "history = model.fit(\n",
        "    x=train_dataset,\n",
        "    validation_data=validation_dataset,\n",
        "    epochs=EPOCHS,\n",
        "    callbacks = [early_stopping]\n",
        ")"
      ],
      "execution_count": 9,
      "outputs": [
        {
          "output_type": "stream",
          "name": "stdout",
          "text": [
            "Epoch 1/50\n",
            "121/121 [==============================] - 45s 312ms/step - loss: 1.5757 - accuracy: 0.2532 - val_loss: 1.1531 - val_accuracy: 0.4161\n",
            "Epoch 2/50\n",
            "121/121 [==============================] - 37s 306ms/step - loss: 1.1567 - accuracy: 0.4139 - val_loss: 1.0049 - val_accuracy: 0.5248\n",
            "Epoch 3/50\n",
            "121/121 [==============================] - 37s 308ms/step - loss: 0.9544 - accuracy: 0.5685 - val_loss: 0.7553 - val_accuracy: 0.7019\n",
            "Epoch 4/50\n",
            "121/121 [==============================] - 37s 306ms/step - loss: 0.7490 - accuracy: 0.6842 - val_loss: 0.6712 - val_accuracy: 0.7228\n",
            "Epoch 5/50\n",
            "121/121 [==============================] - 37s 309ms/step - loss: 0.6306 - accuracy: 0.7523 - val_loss: 0.5651 - val_accuracy: 0.7834\n",
            "Epoch 6/50\n",
            "121/121 [==============================] - 37s 307ms/step - loss: 0.5316 - accuracy: 0.8035 - val_loss: 0.5376 - val_accuracy: 0.8059\n",
            "Epoch 7/50\n",
            "121/121 [==============================] - 37s 306ms/step - loss: 0.4741 - accuracy: 0.8201 - val_loss: 0.4804 - val_accuracy: 0.8331\n",
            "Epoch 8/50\n",
            "121/121 [==============================] - 37s 308ms/step - loss: 0.4433 - accuracy: 0.8359 - val_loss: 0.5497 - val_accuracy: 0.7935\n",
            "Epoch 9/50\n",
            "121/121 [==============================] - 37s 310ms/step - loss: 0.4064 - accuracy: 0.8524 - val_loss: 0.4877 - val_accuracy: 0.8323\n",
            "Epoch 10/50\n",
            "121/121 [==============================] - 37s 308ms/step - loss: 0.3629 - accuracy: 0.8656 - val_loss: 0.4535 - val_accuracy: 0.8424\n",
            "Epoch 11/50\n",
            "121/121 [==============================] - 37s 308ms/step - loss: 0.3364 - accuracy: 0.8822 - val_loss: 0.4568 - val_accuracy: 0.8401\n",
            "Epoch 12/50\n",
            "121/121 [==============================] - 37s 306ms/step - loss: 0.3171 - accuracy: 0.8877 - val_loss: 0.5208 - val_accuracy: 0.8152\n",
            "Epoch 13/50\n",
            "121/121 [==============================] - 37s 308ms/step - loss: 0.2938 - accuracy: 0.8980 - val_loss: 0.5121 - val_accuracy: 0.8261\n",
            "Epoch 14/50\n",
            "121/121 [==============================] - 37s 306ms/step - loss: 0.2754 - accuracy: 0.9045 - val_loss: 0.5008 - val_accuracy: 0.8385\n"
          ]
        }
      ]
    },
    {
      "cell_type": "code",
      "metadata": {
        "colab": {
          "base_uri": "https://localhost:8080/",
          "height": 283
        },
        "id": "yjVvX7OkpaGK",
        "outputId": "a8ba33e1-638f-4757-e183-d7981938938e"
      },
      "source": [
        "pd.DataFrame(history.history).plot()"
      ],
      "execution_count": 10,
      "outputs": [
        {
          "output_type": "execute_result",
          "data": {
            "text/plain": [
              "<matplotlib.axes._subplots.AxesSubplot at 0x7f63038ee750>"
            ]
          },
          "metadata": {},
          "execution_count": 10
        },
        {
          "output_type": "display_data",
          "data": {
            "image/png": "[encoded data removed]",
            "text/plain": [
              "<Figure size 432x288 with 1 Axes>"
            ]
          },
          "metadata": {
            "needs_background": "light"
          }
        }
      ]
    },
    {
      "cell_type": "code",
      "metadata": {
        "colab": {
          "base_uri": "https://localhost:8080/",
          "height": 238
        },
        "id": "iC9VHl0eQn2V",
        "outputId": "b4d8d6c2-7883-46b2-e6f0-b739b62d487d"
      },
      "source": [
        "sample_submission.loc[:, :] = model.predict(test.values)\n",
        "sample_submission.head()"
      ],
      "execution_count": 11,
      "outputs": [
        {
          "output_type": "execute_result",
          "data": {
            "text/html": [
              "<div>\n",
              "<style scoped>\n",
              "    .dataframe tbody tr th:only-of-type {\n",
              "        vertical-align: middle;\n",
              "    }\n",
              "\n",
              "    .dataframe tbody tr th {\n",
              "        vertical-align: top;\n",
              "    }\n",
              "\n",
              "    .dataframe thead th {\n",
              "        text-align: right;\n",
              "    }\n",
              "</style>\n",
              "<table border=\"1\" class=\"dataframe\">\n",
              "  <thead>\n",
              "    <tr style=\"text-align: right;\">\n",
              "      <th></th>\n",
              "      <th>kitaifa</th>\n",
              "      <th>michezo</th>\n",
              "      <th>biashara</th>\n",
              "      <th>kimataifa</th>\n",
              "      <th>burudani</th>\n",
              "    </tr>\n",
              "    <tr>\n",
              "      <th>swahili_id</th>\n",
              "      <th></th>\n",
              "      <th></th>\n",
              "      <th></th>\n",
              "      <th></th>\n",
              "      <th></th>\n",
              "    </tr>\n",
              "  </thead>\n",
              "  <tbody>\n",
              "    <tr>\n",
              "      <th>001dd47ac202d9db6624a5ff734a5e7dddafeaf2</th>\n",
              "      <td>0.231038</td>\n",
              "      <td>0.003056</td>\n",
              "      <td>0.763704</td>\n",
              "      <td>0.000784</td>\n",
              "      <td>0.001418</td>\n",
              "    </tr>\n",
              "    <tr>\n",
              "      <th>0043d97f7690e9bc02f0ed8bb2b260d1d44bad92</th>\n",
              "      <td>0.008588</td>\n",
              "      <td>0.987988</td>\n",
              "      <td>0.000341</td>\n",
              "      <td>0.002186</td>\n",
              "      <td>0.000897</td>\n",
              "    </tr>\n",
              "    <tr>\n",
              "      <th>00579c2307b5c11003d21c40c3ecff5e922c3fd8</th>\n",
              "      <td>0.059395</td>\n",
              "      <td>0.000808</td>\n",
              "      <td>0.937808</td>\n",
              "      <td>0.000544</td>\n",
              "      <td>0.001446</td>\n",
              "    </tr>\n",
              "    <tr>\n",
              "      <th>00868eeee349e286303706ef0ffd851f39708d37</th>\n",
              "      <td>0.961651</td>\n",
              "      <td>0.006322</td>\n",
              "      <td>0.029692</td>\n",
              "      <td>0.001532</td>\n",
              "      <td>0.000803</td>\n",
              "    </tr>\n",
              "    <tr>\n",
              "      <th>00a5cb12d3058dcf2e42f277eee599992db32412</th>\n",
              "      <td>0.665579</td>\n",
              "      <td>0.003209</td>\n",
              "      <td>0.328447</td>\n",
              "      <td>0.001689</td>\n",
              "      <td>0.001077</td>\n",
              "    </tr>\n",
              "  </tbody>\n",
              "</table>\n",
              "</div>"
            ],
            "text/plain": [
              "                                           kitaifa  ...  burudani\n",
              "swahili_id                                          ...          \n",
              "001dd47ac202d9db6624a5ff734a5e7dddafeaf2  0.231038  ...  0.001418\n",
              "0043d97f7690e9bc02f0ed8bb2b260d1d44bad92  0.008588  ...  0.000897\n",
              "00579c2307b5c11003d21c40c3ecff5e922c3fd8  0.059395  ...  0.001446\n",
              "00868eeee349e286303706ef0ffd851f39708d37  0.961651  ...  0.000803\n",
              "00a5cb12d3058dcf2e42f277eee599992db32412  0.665579  ...  0.001077\n",
              "\n",
              "[5 rows x 5 columns]"
            ]
          },
          "metadata": {},
          "execution_count": 11
        }
      ]
    },
    {
      "cell_type": "code",
      "metadata": {
        "id": "Q7K7CvzDQn2V"
      },
      "source": [
        "sample_submission.to_csv(\"submission.csv\")"
      ],
      "execution_count": 12,
      "outputs": []
    }
  ]
}